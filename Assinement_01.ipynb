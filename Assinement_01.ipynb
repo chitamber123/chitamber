{
 "cells": [
  {
   "cell_type": "code",
   "execution_count": 1,
   "id": "c18e390a",
   "metadata": {},
   "outputs": [
    {
     "ename": "SyntaxError",
     "evalue": "invalid syntax (3581578797.py, line 1)",
     "output_type": "error",
     "traceback": [
      "\u001b[1;36m  Input \u001b[1;32mIn [1]\u001b[1;36m\u001b[0m\n\u001b[1;33m    'hello' is a string value.\u001b[0m\n\u001b[1;37m                 ^\u001b[0m\n\u001b[1;31mSyntaxError\u001b[0m\u001b[1;31m:\u001b[0m invalid syntax\n"
     ]
    }
   ],
   "source": [
    "'hello' is a string value.\n",
    "-87.8 is a float value.\n",
    "\n",
    "is a mathematical operator.\n",
    "/ is a mathematical operator.\n",
    "6 is an integer value.\n"
   ]
  },
  {
   "cell_type": "code",
   "execution_count": null,
   "id": "99c24c71",
   "metadata": {},
   "outputs": [],
   "source": []
  },
  {
   "cell_type": "code",
   "execution_count": 2,
   "id": "718fb4d9",
   "metadata": {},
   "outputs": [
    {
     "ename": "IndentationError",
     "evalue": "unexpected indent (2804457556.py, line 7)",
     "output_type": "error",
     "traceback": [
      "\u001b[1;36m  Input \u001b[1;32mIn [2]\u001b[1;36m\u001b[0m\n\u001b[1;33m    name = 'John'\u001b[0m\n\u001b[1;37m    ^\u001b[0m\n\u001b[1;31mIndentationError\u001b[0m\u001b[1;31m:\u001b[0m unexpected indent\n"
     ]
    }
   ],
   "source": [
    "#A string is a sequence of characters, enclosed in quotation marks, used to represent text or a message. \n",
    "#For example: 'Hello, world!'\n",
    "\n",
    "#A variable, on the other hand, is a named container for storing values in a program. \n",
    "#The value stored in a variable can be of any data type, including a string. \n",
    "#The value can be changed during the execution of the program. For example:\n",
    "    name = 'John'\n",
    "print(name)\n",
    "#In this example, name is a variable that holds the string value 'John'. \n",
    "#The value of the variable can be accessed and used by its name."
   ]
  },
  {
   "cell_type": "code",
   "execution_count": 3,
   "id": "2fb15cf5",
   "metadata": {},
   "outputs": [
    {
     "ename": "SyntaxError",
     "evalue": "invalid syntax (3507242069.py, line 1)",
     "output_type": "error",
     "traceback": [
      "\u001b[1;36m  Input \u001b[1;32mIn [3]\u001b[1;36m\u001b[0m\n\u001b[1;33m    In Python, there are several built-in data types. Here are three of the most commonly used data types:\u001b[0m\n\u001b[1;37m       ^\u001b[0m\n\u001b[1;31mSyntaxError\u001b[0m\u001b[1;31m:\u001b[0m invalid syntax\n"
     ]
    }
   ],
   "source": [
    "In Python, there are several built-in data types. Here are three of the most commonly used data types:\n",
    "\n",
    "1 int: This data type is used to represent integers, such as 1, 2, -10, etc. Integers can be used for mathematical operations.\n",
    "\n",
    "2 float: This data type is used to represent floating-point numbers, such as 1.0, 2.5, -0.8, etc. Floating-point numbers are used for decimal values and can also be used for mathematical operations.\n",
    "\n",
    "3 str: This data type is used to represent strings, which are sequences of characters, such as \"Hello, world!\", \"apple\", etc. Strings can be used for text processing and manipulation.\n",
    "\n",
    "These data types are just a few examples of the data types available in Python. There are several other built-in data types, such as lists, dictionaries, and tuples, each with its own specific characteristics and uses."
   ]
  },
  {
   "cell_type": "code",
   "execution_count": 4,
   "id": "d5b5bd75",
   "metadata": {},
   "outputs": [
    {
     "ename": "SyntaxError",
     "evalue": "invalid syntax (2960277447.py, line 1)",
     "output_type": "error",
     "traceback": [
      "\u001b[1;36m  Input \u001b[1;32mIn [4]\u001b[1;36m\u001b[0m\n\u001b[1;33m    An expression is made up of values and operators. Expressions are used to represent a value that can be calculated by the computer. The value is computed by applying the operators to the values.\u001b[0m\n\u001b[1;37m       ^\u001b[0m\n\u001b[1;31mSyntaxError\u001b[0m\u001b[1;31m:\u001b[0m invalid syntax\n"
     ]
    }
   ],
   "source": [
    "An expression is made up of values and operators. Expressions are used to represent a value that can be calculated by the computer. The value is computed by applying the operators to the values.\n",
    "\n",
    "In Python, an expression can consist of:\n",
    "\n",
    "Literal values, such as integers, floating-point numbers, or strings\n",
    "Variables, which store values\n",
    "Operators, such as addition, subtraction, multiplication, etc.\n",
    "All expressions evaluate to a single value. The type of value depends on the type of the components of the expression and the rules of the operators being used. For example, an expression consisting of two integer values and the addition operator (+) will evaluate to an integer value, while an expression consisting of a floating-point value and a string value will result in an error, as these two types of values cannot be combined using the standard operators.\n",
    "\n",
    "The purpose of an expression is to produce a single value that can be used in a program. Expressions can be used in a variety of ways, such as in control statements to determine the flow of a program, in assignments to store values in variables, or in function calls to pass values as arguments."
   ]
  },
  {
   "cell_type": "code",
   "execution_count": null,
   "id": "f3908ee0",
   "metadata": {},
   "outputs": [],
   "source": [
    "#An expression is a combination of values, variables, and operators that can be evaluated to a single value. \n",
    "#An expression can be used as part of a larger statement or on its own. \n",
    " #For example, the following are expressions:\n",
    "   10 + 20\n",
    "\"Hello, \" + \"world!\"\n",
    "2 * (3 + 4)\n",
    "#A statement, on the other hand, is a standalone instruction that specifies an action to be performed by the computer. \n",
    "#A statement can contain one or more expressions and can perform operations like assignment, control flow, or function calls.\n",
    "\n",
    "#The assignment statement spam = 10 is an example of a statement that contains an expression (10).\n",
    "#This statement takes the value of the expression (10) and assigns it to the variable spam. \n",
    "#The assignment statement performs an action (assigning a value to a variable), while the expression (10) simply evaluates to a value.\n",
    "\n",
    "#In general, all statements are executed in the order in which they appear in the code, while expressions are evaluated and their values can be used within statements."
   ]
  },
  {
   "cell_type": "code",
   "execution_count": null,
   "id": "0f9958f9",
   "metadata": {},
   "outputs": [],
   "source": [
    "#After running the code, the variable bacon would contain the value 22. The expression bacon + 1 would evaluate to 23, \n",
    "#but this result is not stored in the variable bacon.\n",
    "\n",
    "#To update the value of the variable bacon, you would need to include an assignment statement. For example:\n",
    "bacon = 22\n",
    "bacon = bacon + 1\n",
    "#Now, after running this code, the value of bacon would be 23."
   ]
  },
  {
   "cell_type": "code",
   "execution_count": null,
   "id": "c06f14e4",
   "metadata": {},
   "outputs": [],
   "source": [
    "The value of the expression 'spam' + 'spamspam' would be 'spamspamspam'. \n",
    "The plus operator (+) is used to concatenate strings, so the expression evaluates to a new string that is the concatenation of the two input strings.\n",
    "\n",
    "The value of the expression 'spam' * 3 would be 'spamspamspam'. The asterisk operator (*) is used to repeat a string a specified number of times, \n",
    "so the expression evaluates to a new string that is a repetition of the input string 'spam' three times."
   ]
  },
  {
   "cell_type": "code",
   "execution_count": null,
   "id": "b8482522",
   "metadata": {},
   "outputs": [],
   "source": [
    "In Python, variable names must start with a letter or an underscore, followed by any number of letters, numbers, or underscores.\n",
    "This means that a variable name like eggs is valid, because it starts with a letter.\n",
    "\n",
    "However, a variable name like 100 is not valid, because it starts with a number. \n",
    "Variable names starting with a number are not allowed in Python, because numbers have a special meaning in the language (e.g., representing a numeric value).\n",
    "\n",
    "To avoid any confusion with numeric values, it's a good practice to always start variable names with a letter or an underscore. This way, you ensure that the names you choose are valid and unambiguous."
   ]
  },
  {
   "cell_type": "code",
   "execution_count": null,
   "id": "0e811d92",
   "metadata": {},
   "outputs": [],
   "source": [
    "#In Python, there are three built-in functions that can be used to convert values to different data types:\n",
    "\n",
    "# 1 int(value) - Converts the input value to an integer. If the input value is a floating-point number, the fractional part will be truncated. If the input value is a string, it must represent a valid integer for the function to succeed.\n",
    "\n",
    "# 2 float(value) - Converts the input value to a floating-point number. If the input value is an integer, it will be converted to a floating-point number with the same value. If the input value is a string, it must represent a valid floating-point number for the function to succeed.\n",
    "\n",
    "# 3 str(value) - Converts the input value to a string. This function can be used to convert values of any type to a string representation.\n",
    "\n",
    "#For example:\n",
    ">>> int(3.14)\n",
    "3\n",
    ">>> float(42)\n",
    "42.0\n",
    ">>> str(100)\n",
    "'100'\n"
   ]
  },
  {
   "cell_type": "code",
   "execution_count": null,
   "id": "e8ebf7d5",
   "metadata": {},
   "outputs": [],
   "source": [
    "#The expression 'I have eaten ' + 99 + ' burritos.' causes an error because you cannot concatenate a string and an integer using the plus operator (+).\n",
    "\n",
    "#To fix this error, you need to convert the integer 99 to a string before concatenating it with the other strings. \n",
    "#You can use the str() function to do this:\n",
    "'I have eaten ' + str(99) + ' burritos.'\n",
    "This expression would evaluate to the string 'I have eaten 99 burritos.'."
   ]
  }
 ],
 "metadata": {
  "kernelspec": {
   "display_name": "Python 3 (ipykernel)",
   "language": "python",
   "name": "python3"
  },
  "language_info": {
   "codemirror_mode": {
    "name": "ipython",
    "version": 3
   },
   "file_extension": ".py",
   "mimetype": "text/x-python",
   "name": "python",
   "nbconvert_exporter": "python",
   "pygments_lexer": "ipython3",
   "version": "3.9.12"
  }
 },
 "nbformat": 4,
 "nbformat_minor": 5
}
